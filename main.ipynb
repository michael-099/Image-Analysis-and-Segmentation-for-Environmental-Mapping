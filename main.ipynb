{
 "cells": [
  {
   "cell_type": "code",
   "execution_count": 46,
   "id": "cb47cdd8",
   "metadata": {},
   "outputs": [],
   "source": [
    "import ee"
   ]
  },
  {
   "cell_type": "code",
   "execution_count": 47,
   "id": "581c7bc0",
   "metadata": {},
   "outputs": [
    {
     "data": {
      "text/plain": [
       "True"
      ]
     },
     "execution_count": 47,
     "metadata": {},
     "output_type": "execute_result"
    }
   ],
   "source": [
    "ee.Authenticate()"
   ]
  },
  {
   "cell_type": "code",
   "execution_count": 48,
   "id": "d8871da5",
   "metadata": {},
   "outputs": [],
   "source": [
    "ee.Initialize(project='map-environmental-features')\n"
   ]
  },
  {
   "cell_type": "code",
   "execution_count": 49,
   "id": "901ac880",
   "metadata": {},
   "outputs": [],
   "source": [
    "# Coordinates (replace with your target location)\n",
    "lat, lon = 9.03, 38.74  # Example: Addis Ababa\n",
    "point = ee.Geometry.Point(lon, lat)"
   ]
  },
  {
   "cell_type": "code",
   "execution_count": 50,
   "id": "bd36e883",
   "metadata": {},
   "outputs": [],
   "source": [
    "region = point.buffer(500).bounds()  \n"
   ]
  },
  {
   "cell_type": "code",
   "execution_count": 51,
   "id": "242c7bab",
   "metadata": {},
   "outputs": [],
   "source": [
    "#  Retrieve Satellite Image (Sentinel-2) ===\n",
    "image = ee.ImageCollection('COPERNICUS/S2') \\\n",
    "    .filterBounds(point) \\\n",
    "    .filterDate('2023-01-01', '2023-03-01') \\\n",
    "    .filter(ee.Filter.lt('CLOUDY_PIXEL_PERCENTAGE', 10)) \\\n",
    "    .sort('CLOUDY_PIXEL_PERCENTAGE') \\\n",
    "    .first()\n"
   ]
  },
  {
   "cell_type": "code",
   "execution_count": 52,
   "id": "c27c4606",
   "metadata": {},
   "outputs": [],
   "source": [
    "rgb = image.select(['B4', 'B3', 'B2'])"
   ]
  },
  {
   "cell_type": "code",
   "execution_count": 53,
   "id": "07b759e4",
   "metadata": {},
   "outputs": [],
   "source": [
    "satellite_url = rgb.getThumbURL({\n",
    "    'region': region,\n",
    "    'dimensions': 512,\n",
    "    'format': 'png',\n",
    "    'min': 0,\n",
    "    'max': 3000  # Adjust as needed\n",
    "})"
   ]
  },
  {
   "cell_type": "code",
   "execution_count": 54,
   "id": "4682160a",
   "metadata": {},
   "outputs": [
    {
     "name": "stdout",
     "output_type": "stream",
     "text": [
      "Elevation: 2442.00 meters\n"
     ]
    }
   ],
   "source": [
    "#  Retrieve Elevation Information (SRTM) ===\n",
    "elevation_img = ee.Image(\"USGS/SRTMGL1_003\")\n",
    "elevation_sample = elevation_img.sample(region=point, scale=30).first()\n",
    "elevation_value = elevation_sample.get(\"elevation\").getInfo()\n",
    "print(f\"Elevation: {elevation_value:.2f} meters\")"
   ]
  },
  {
   "cell_type": "code",
   "execution_count": 55,
   "id": "4fd11fed",
   "metadata": {},
   "outputs": [
    {
     "name": "stdout",
     "output_type": "stream",
     "text": [
      "Elevation Image URL: https://earthengine.googleapis.com/v1/projects/map-environmental-features/thumbnails/15ee418c9a717928908cb7fff52a2128-26d5a480f52e0672c7fec863ce20f10f:getPixels\n"
     ]
    }
   ],
   "source": [
    "# Elevation image thumbnail (for visualization)\n",
    "elevation_thumb_url = elevation_img.getThumbURL({\n",
    "    'region': region,\n",
    "    'dimensions': 1024,\n",
    "    'min': 2300,\n",
    "    'max': 2600,\n",
    "    'palette': ['blue', 'green', 'yellow', 'orange', 'red']\n",
    "})\n",
    "print(\"Elevation Image URL:\", elevation_thumb_url)"
   ]
  },
  {
   "cell_type": "code",
   "execution_count": 56,
   "id": "32c21cc9",
   "metadata": {},
   "outputs": [],
   "source": [
    "#  Image Processing Preprocessing Stub ===\n",
    "# Resize image to 350x350 (to feed to UGM later)\n",
    "rgb_resized = rgb.resample('bilinear').reproject(crs='EPSG:4326', scale=10)"
   ]
  },
  {
   "cell_type": "code",
   "execution_count": 57,
   "id": "dd7fb172",
   "metadata": {},
   "outputs": [
    {
     "name": "stdout",
     "output_type": "stream",
     "text": [
      "Resized Image (350x350) URL: https://earthengine.googleapis.com/v1/projects/map-environmental-features/thumbnails/ed7aa11a423bc25a213d9250821f78ed-e973b54affa5aa711aa285a72c3de697:getPixels\n"
     ]
    }
   ],
   "source": [
    "rgb_thumb_url = rgb_resized.getThumbURL({\n",
    "    'region': region,\n",
    "    'dimensions': 350,\n",
    "    'format': 'png',\n",
    "    'min': 0,\n",
    "    'max': 3000\n",
    "})\n",
    "print(\"Resized Image (350x350) URL:\", rgb_thumb_url)"
   ]
  }
 ],
 "metadata": {
  "kernelspec": {
   "display_name": "medical_bayes",
   "language": "python",
   "name": "medical_bayes"
  },
  "language_info": {
   "codemirror_mode": {
    "name": "ipython",
    "version": 3
   },
   "file_extension": ".py",
   "mimetype": "text/x-python",
   "name": "python",
   "nbconvert_exporter": "python",
   "pygments_lexer": "ipython3",
   "version": "3.11.12"
  }
 },
 "nbformat": 4,
 "nbformat_minor": 5
}
